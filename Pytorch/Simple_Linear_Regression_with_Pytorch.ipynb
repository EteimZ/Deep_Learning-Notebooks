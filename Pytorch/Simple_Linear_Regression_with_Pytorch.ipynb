{
  "nbformat": 4,
  "nbformat_minor": 0,
  "metadata": {
    "colab": {
      "name": "Simple_Linear_Regression_with_Pytorch.ipynb",
      "provenance": [],
      "collapsed_sections": [],
      "authorship_tag": "ABX9TyMvU+WxojBLqcXxfizKwHn1",
      "include_colab_link": true
    },
    "kernelspec": {
      "name": "python3",
      "display_name": "Python 3"
    }
  },
  "cells": [
    {
      "cell_type": "markdown",
      "metadata": {
        "id": "view-in-github",
        "colab_type": "text"
      },
      "source": [
        "<a href=\"https://colab.research.google.com/github/EteimZ/Deep_Learning-Notebooks/blob/main/Pytorch/Simple_Linear_Regression_with_Pytorch.ipynb\" target=\"_parent\"><img src=\"https://colab.research.google.com/assets/colab-badge.svg\" alt=\"Open In Colab\"/></a>"
      ]
    },
    {
      "cell_type": "markdown",
      "metadata": {
        "id": "zq0NGuWceF4a"
      },
      "source": [
        "# Simple Linear Regression"
      ]
    },
    {
      "cell_type": "markdown",
      "metadata": {
        "id": "HQULj-njePdu"
      },
      "source": [
        "In this notebook I will perform a simple linear regression with Pytorch"
      ]
    },
    {
      "cell_type": "code",
      "metadata": {
        "id": "hc3oClqWC6Ge"
      },
      "source": [
        "import torch\n",
        "import torch.nn as nn"
      ],
      "execution_count": 134,
      "outputs": []
    },
    {
      "cell_type": "markdown",
      "metadata": {
        "id": "TjYWMyrtetIi"
      },
      "source": [
        "$$y= x * W + b $$\n",
        "\n",
        "The equation above is a linear model where $ W $ is the weight, $ b $ is the bias , $x$ is the input variable and $y$ is the output. I am going to generate random values of $x$ and $y$ (which will be dependent on $x$) with random noise. "
      ]
    },
    {
      "cell_type": "code",
      "metadata": {
        "colab": {
          "base_uri": "https://localhost:8080/",
          "height": 285
        },
        "id": "QkraXyAuMNqa",
        "outputId": "16047472-b9d7-4200-d5b2-efad82af97c4"
      },
      "source": [
        "# generate random v\n",
        "X = 4 * torch.rand(100, 1)\n",
        "y = 3 + 5 * X + torch.randn(100, 1)\n",
        "\n",
        "plt.scatter(X, y, c=\"b\")"
      ],
      "execution_count": 135,
      "outputs": [
        {
          "output_type": "execute_result",
          "data": {
            "text/plain": [
              "<matplotlib.collections.PathCollection at 0x7f20764169b0>"
            ]
          },
          "metadata": {
            "tags": []
          },
          "execution_count": 135
        },
        {
          "output_type": "display_data",
          "data": {
            "image/png": "[encoded data removed]",
            "text/plain": [
              "<Figure size 432x288 with 1 Axes>"
            ]
          },
          "metadata": {
            "tags": [],
            "needs_background": "light"
          }
        }
      ]
    },
    {
      "cell_type": "markdown",
      "metadata": {
        "id": "F0p6y49VkTKa"
      },
      "source": [
        "Creating a linear model in pytorch is quite easy all we need is the *torch.nn.Linear* class, set the input dimension and output dimension to one because our linear model takes in one input($x$) and returns one output($y$).\n",
        "\n",
        "The *torch.nn.Linear* class handles our Weights and biases for us by initializing random values."
      ]
    },
    {
      "cell_type": "code",
      "metadata": {
        "id": "cucNk7iiX22Q"
      },
      "source": [
        "input_dim = 1\n",
        "output_dim = 1\n",
        "model = nn.Linear(input_dim, output_dim)"
      ],
      "execution_count": 136,
      "outputs": []
    },
    {
      "cell_type": "markdown",
      "metadata": {
        "id": "HrQSrufUm1wO"
      },
      "source": [
        "Lets check our Weight and bias."
      ]
    },
    {
      "cell_type": "code",
      "metadata": {
        "colab": {
          "base_uri": "https://localhost:8080/"
        },
        "id": "GTY_iQFrm6Ke",
        "outputId": "4c3065cd-2313-4c34-ef38-50e4c9cf5f34"
      },
      "source": [
        "[w, b] = model.parameters()\n",
        "print(f'weight = {w.item():.3f}, bias = {b.item():.3f}')"
      ],
      "execution_count": 137,
      "outputs": [
        {
          "output_type": "stream",
          "text": [
            "weight = -0.405, bias = 0.024\n"
          ],
          "name": "stdout"
        }
      ]
    },
    {
      "cell_type": "markdown",
      "metadata": {
        "id": "5Z_-iS7lpQvU"
      },
      "source": [
        "Our weight and bias are completely random, now we have to adjust their values. In other to adjust our values we need a loss function and an optimzer.\n",
        "\n",
        "The loss function will tell us the difference between the actual values and the predicted values, the loss used in this case is the \n",
        "*Mean Squared Error* :\n",
        "\n",
        "\n",
        " $$ MSE = \\frac{1}{n}\\sum_{i=1}^{n}(y_i-\\hat{y_i})^2$$\n",
        "\n",
        " Where $y_i$ are the actual values and $\\hat{y_i}$ are the predicted values. \n",
        "\n",
        " While the optimizer will adjust the weight and bias, the optimizer used is *Stochastic gradient descent*. "
      ]
    },
    {
      "cell_type": "code",
      "metadata": {
        "id": "kQeokEerUoz5"
      },
      "source": [
        "#pytorch implementation\n",
        "loss = nn.MSELoss()\n",
        "optimizer = torch.optim.SGD(model.parameters(), lr=0.01)"
      ],
      "execution_count": 138,
      "outputs": []
    },
    {
      "cell_type": "markdown",
      "metadata": {
        "id": "GH9lra3X1QFI"
      },
      "source": [
        "The process of adjusting the weights and biases is an iterative one, so we need a training loop."
      ]
    },
    {
      "cell_type": "code",
      "metadata": {
        "colab": {
          "base_uri": "https://localhost:8080/"
        },
        "id": "L7rKE7U8Z4_r",
        "outputId": "90475f05-ece4-4f60-a445-f8ce242c49f2"
      },
      "source": [
        "n_iters = 30\n",
        "\n",
        "for epoch in range(n_iters):\n",
        "  # Input the X values to the model\n",
        "  y_pred = model(X)\n",
        "\n",
        "  # Calculate the loss\n",
        "  l = loss(y, y_pred)\n",
        "\n",
        "  # Calculate the the gradients\n",
        "  l.backward()\n",
        "\n",
        "  # Update weights and biases\n",
        "  optimizer.step()\n",
        "  optimizer.zero_grad()\n",
        "\n",
        "  \n",
        "  [w, b] = model.parameters() # unpack parameters\n",
        "  print(f'epoch {epoch+1} : w = {w[0].item():.3f} bias =  {b.item():.3f} loss =  {l.item():.3f}')\n",
        "\n"
      ],
      "execution_count": 139,
      "outputs": [
        {
          "output_type": "stream",
          "text": [
            "epoch 1 : w = 0.285 bias =  0.296 loss =  229.106\n",
            "epoch 2 : w = 0.892 bias =  0.535 loss =  177.448\n",
            "epoch 3 : w = 1.425 bias =  0.745 loss =  137.495\n",
            "epoch 4 : w = 1.894 bias =  0.931 loss =  106.595\n",
            "epoch 5 : w = 2.306 bias =  1.094 loss =  82.697\n",
            "epoch 6 : w = 2.669 bias =  1.238 loss =  64.214\n",
            "epoch 7 : w = 2.988 bias =  1.365 loss =  49.919\n",
            "epoch 8 : w = 3.268 bias =  1.477 loss =  38.863\n",
            "epoch 9 : w = 3.514 bias =  1.576 loss =  30.312\n",
            "epoch 10 : w = 3.730 bias =  1.663 loss =  23.699\n",
            "epoch 11 : w = 3.921 bias =  1.740 loss =  18.584\n",
            "epoch 12 : w = 4.088 bias =  1.807 loss =  14.627\n",
            "epoch 13 : w = 4.235 bias =  1.868 loss =  11.568\n",
            "epoch 14 : w = 4.364 bias =  1.921 loss =  9.201\n",
            "epoch 15 : w = 4.477 bias =  1.968 loss =  7.370\n",
            "epoch 16 : w = 4.577 bias =  2.009 loss =  5.955\n",
            "epoch 17 : w = 4.664 bias =  2.046 loss =  4.859\n",
            "epoch 18 : w = 4.741 bias =  2.079 loss =  4.012\n",
            "epoch 19 : w = 4.809 bias =  2.108 loss =  3.357\n",
            "epoch 20 : w = 4.868 bias =  2.134 loss =  2.850\n",
            "epoch 21 : w = 4.920 bias =  2.156 loss =  2.458\n",
            "epoch 22 : w = 4.965 bias =  2.177 loss =  2.154\n",
            "epoch 23 : w = 5.005 bias =  2.195 loss =  1.919\n",
            "epoch 24 : w = 5.040 bias =  2.212 loss =  1.737\n",
            "epoch 25 : w = 5.071 bias =  2.226 loss =  1.597\n",
            "epoch 26 : w = 5.098 bias =  2.239 loss =  1.488\n",
            "epoch 27 : w = 5.122 bias =  2.251 loss =  1.403\n",
            "epoch 28 : w = 5.142 bias =  2.262 loss =  1.338\n",
            "epoch 29 : w = 5.160 bias =  2.272 loss =  1.287\n",
            "epoch 30 : w = 5.176 bias =  2.280 loss =  1.248\n"
          ],
          "name": "stdout"
        }
      ]
    },
    {
      "cell_type": "code",
      "metadata": {
        "colab": {
          "base_uri": "https://localhost:8080/"
        },
        "id": "nxNgi0ci5oj8",
        "outputId": "25c4ecdf-5a90-4f13-ac44-120205065cf5"
      },
      "source": [
        "print(f'Weights and bias after training: w: {w.item():.3f} b: {b.item():.3f}')"
      ],
      "execution_count": 140,
      "outputs": [
        {
          "output_type": "stream",
          "text": [
            "Weights and bias after training: w: 5.176 b: 2.280\n"
          ],
          "name": "stdout"
        }
      ]
    },
    {
      "cell_type": "markdown",
      "metadata": {
        "id": "u0Xl6GwR7KMx"
      },
      "source": [
        "Let's plot our predicted values:"
      ]
    },
    {
      "cell_type": "code",
      "metadata": {
        "colab": {
          "base_uri": "https://localhost:8080/",
          "height": 285
        },
        "id": "xqX7IGBf32gu",
        "outputId": "f3132f3a-3c54-4cd9-9558-9a6ee30302cd"
      },
      "source": [
        "pred = model(X).detach()\n",
        "plt.plot(X, y, 'bo')\n",
        "plt.plot(X, pred, 'ro')"
      ],
      "execution_count": 142,
      "outputs": [
        {
          "output_type": "execute_result",
          "data": {
            "text/plain": [
              "[<matplotlib.lines.Line2D at 0x7f20763c9390>]"
            ]
          },
          "metadata": {
            "tags": []
          },
          "execution_count": 142
        },
        {
          "output_type": "display_data",
          "data": {
            "image/png": "[encoded data removed]",
            "text/plain": [
              "<Figure size 432x288 with 1 Axes>"
            ]
          },
          "metadata": {
            "tags": [],
            "needs_background": "light"
          }
        }
      ]
    },
    {
      "cell_type": "markdown",
      "metadata": {
        "id": "bl59NFUM7vK5"
      },
      "source": [
        "\n",
        "There we have it, that is how to implement simple linear regression in pytorch.\n"
      ]
    }
  ]
}